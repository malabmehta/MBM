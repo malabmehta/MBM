{
    "cells": [
        {
            "cell_type": "code",
            "execution_count": null,
            "metadata": {},
            "outputs": [],
            "source": "# The code was removed by Watson Studio for sharing."
        },
        {
            "cell_type": "markdown",
            "metadata": {},
            "source": "******************** Question # 1 ********************"
        },
        {
            "cell_type": "markdown",
            "metadata": {
                "collapsed": true
            },
            "source": "Import Libraries"
        },
        {
            "cell_type": "code",
            "execution_count": 1,
            "metadata": {},
            "outputs": [],
            "source": "import numpy as np\nimport pandas as pd"
        },
        {
            "cell_type": "markdown",
            "metadata": {},
            "source": "Scrape data from Wikipedia and put the required table into a dataframe"
        },
        {
            "cell_type": "code",
            "execution_count": 2,
            "metadata": {},
            "outputs": [],
            "source": "df = pd.read_html('https://en.wikipedia.org/wiki/List_of_postal_codes_of_Canada:_M')\ntoronto_df = df[0]"
        },
        {
            "cell_type": "markdown",
            "metadata": {},
            "source": "Clean the data"
        },
        {
            "cell_type": "code",
            "execution_count": 3,
            "metadata": {},
            "outputs": [],
            "source": "# Save dataframe as csv file to Watson Studio storage\n#project.save_data(file_name = 'Toronto_Data.csv', data = neighborhood_df.to_csv(index=False), overwrite = True)\n\n# Rename first column from Postcode to PostalCode\ntoronto_df.columns.values[0] = 'PostalCode' \n\n# Rename third column from Neighbourhood to Neighborhood\ntoronto_df.columns.values[2] = 'Neighborhood' \n\n# Remove Boroughs with a value of \"Not assigned\"\ntoronto_df = toronto_df[toronto_df.Borough != 'Not assigned'].reset_index()\n\n# Combine all Neighborhoods for the same Postal Code\ngrouped_toronto_df = toronto_df.groupby(['PostalCode', 'Borough'])['Neighborhood'].apply(', '.join).reset_index()\n\n# If any Neighborhood has a value of \"Not assigned\" change it to value of Borough\nfound = grouped_toronto_df['Neighborhood'].str.contains(\"Not assigned\")\nif len(found) > 0:\n    grouped_toronto_df['Neighborhood'].replace('Not assigned', grouped_toronto_df['Borough'], inplace=True)"
        },
        {
            "cell_type": "markdown",
            "metadata": {},
            "source": "Print # of rows of cleaned dataframe"
        },
        {
            "cell_type": "code",
            "execution_count": 4,
            "metadata": {},
            "outputs": [
                {
                    "data": {
                        "text/plain": "(103, 3)"
                    },
                    "execution_count": 4,
                    "metadata": {},
                    "output_type": "execute_result"
                }
            ],
            "source": "grouped_toronto_df.shape"
        },
        {
            "cell_type": "code",
            "execution_count": null,
            "metadata": {},
            "outputs": [],
            "source": ""
        }
    ],
    "metadata": {
        "kernelspec": {
            "display_name": "Python 3.6",
            "language": "python",
            "name": "python3"
        },
        "language_info": {
            "codemirror_mode": {
                "name": "ipython",
                "version": 3
            },
            "file_extension": ".py",
            "mimetype": "text/x-python",
            "name": "python",
            "nbconvert_exporter": "python",
            "pygments_lexer": "ipython3",
            "version": "3.6.9"
        }
    },
    "nbformat": 4,
    "nbformat_minor": 1
}